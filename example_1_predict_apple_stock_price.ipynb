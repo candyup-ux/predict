{
  "cells": [
    {
      "cell_type": "code",
      "execution_count": 5,
      "metadata": {
        "id": "UY-4fb4kTXPF"
      },
      "outputs": [],
      "source": [
        "from predictapi import Predictor\n",
        "import yfinance as yf"
      ]
    },
    {
      "cell_type": "code",
      "execution_count": 8,
      "metadata": {
        "colab": {
          "base_uri": "https://localhost:8080/"
        },
        "id": "baOWSjskTZRq",
        "outputId": "c7202398-a877-45eb-c497-b3483e118982"
      },
      "outputs": [
        {
          "name": "stdout",
          "output_type": "stream",
          "text": [
            "The number of values in the historical data set is: 2519\n",
            "The last value which would be projected is: 129.92999267578125\n"
          ]
        }
      ],
      "source": [
        "data_df = yf.download(\"AAPL\", start=\"2012-12-31\", end=\"2022-12-31\", interval=\"1d\", progress=False)\n",
        "data = data_df[\"Close\"].tolist()\n",
        "\n",
        "print(\"The number of values in the historical data set is:\", len(data))\n",
        "print(\"The last value which would be projected is:\", data[len(data)-1])"
      ]
    },
    {
      "cell_type": "code",
      "execution_count": 13,
      "metadata": {},
      "outputs": [],
      "source": [
        "p = Predictor(api_key=\"your_api_key\")"
      ]
    },
    {
      "cell_type": "code",
      "execution_count": 11,
      "metadata": {
        "id": "cibbeIJmTbyU"
      },
      "outputs": [],
      "source": [
        "horizon = 30\n",
        "cls = [0.25, 0.5, 0.75]"
      ]
    },
    {
      "cell_type": "code",
      "execution_count": 14,
      "metadata": {
        "colab": {
          "base_uri": "https://localhost:8080/"
        },
        "id": "lCgcqWEUThSs",
        "outputId": "35deb5f0-4118-4812-d40e-6850a3eaf451"
      },
      "outputs": [
        {
          "name": "stdout",
          "output_type": "stream",
          "text": [
            "The 3 quartiles at horizon 30 days are: [{'0.25': 124.61287199924642, '0.5': 133.19434735827977, '0.75': 142.13910859087554}]\n"
          ]
        }
      ],
      "source": [
        "quartiles = p.predict(data=data, horizon=horizon, cls=cls)\n",
        "\n",
        "print(f'The 3 quartiles at horizon {horizon} days are:', [q for cl, q in quartiles.items()])"
      ]
    }
  ],
  "metadata": {
    "colab": {
      "provenance": []
    },
    "kernelspec": {
      "display_name": "Python 3",
      "name": "python3"
    },
    "language_info": {
      "codemirror_mode": {
        "name": "ipython",
        "version": 3
      },
      "file_extension": ".py",
      "mimetype": "text/x-python",
      "name": "python",
      "nbconvert_exporter": "python",
      "pygments_lexer": "ipython3",
      "version": "3.10.8"
    }
  },
  "nbformat": 4,
  "nbformat_minor": 0
}
